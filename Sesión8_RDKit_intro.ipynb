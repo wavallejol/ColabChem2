{
  "nbformat": 4,
  "nbformat_minor": 0,
  "metadata": {
    "colab": {
      "name": "Sesión8_RDKit_intro.ipynb",
      "provenance": [],
      "collapsed_sections": [],
      "mount_file_id": "1LAlG2lrbT47_X3pQVQGjOG1qPipM5HI9",
      "authorship_tag": "ABX9TyPfYlP/CTQEehK7TjmbZdTc",
      "include_colab_link": true
    },
    "kernelspec": {
      "name": "python3",
      "display_name": "Python 3"
    },
    "language_info": {
      "name": "python"
    }
  },
  "cells": [
    {
      "cell_type": "markdown",
      "metadata": {
        "id": "view-in-github",
        "colab_type": "text"
      },
      "source": [
        "<a href=\"https://colab.research.google.com/github/wavallejol/ColabChem2/blob/main/Sesi%C3%B3n8_RDKit_intro.ipynb\" target=\"_parent\"><img src=\"https://colab.research.google.com/assets/colab-badge.svg\" alt=\"Open In Colab\"/></a>"
      ]
    },
    {
      "cell_type": "markdown",
      "metadata": {
        "id": "uvF2_xDsE_iW"
      },
      "source": [
        ". \n",
        "\n",
        "<div align = \"center\"> ⬇️ Primero instalaremos los paquetes requeridos e importaremos las bibliotecas que utilizaremos para desarrollar las actividades ⬇️</a></div>"
      ]
    },
    {
      "cell_type": "code",
      "metadata": {
        "colab": {
          "base_uri": "https://localhost:8080/"
        },
        "id": "dTDgatFfwwNd",
        "outputId": "a7c0a521-8376-413a-c559-7a369f19260c"
      },
      "source": [
        "!pip install rdkit-pypi"
      ],
      "execution_count": null,
      "outputs": [
        {
          "output_type": "stream",
          "name": "stdout",
          "text": [
            "Collecting rdkit-pypi\n",
            "  Downloading rdkit_pypi-2021.3.5.1-cp37-cp37m-manylinux_2_17_x86_64.manylinux2014_x86_64.whl (19.7 MB)\n",
            "\u001b[K     |████████████████████████████████| 19.7 MB 1.2 MB/s \n",
            "\u001b[?25hRequirement already satisfied: numpy>=1.19 in /usr/local/lib/python3.7/dist-packages (from rdkit-pypi) (1.19.5)\n",
            "Installing collected packages: rdkit-pypi\n",
            "Successfully installed rdkit-pypi-2021.3.5.1\n"
          ]
        }
      ]
    },
    {
      "cell_type": "code",
      "metadata": {
        "id": "w37ojuf8w_uA"
      },
      "source": [
        "from rdkit import Chem #RDKit Chemistry\n",
        "from rdkit.Chem.Draw import IPythonConsole \n",
        "from rdkit.Chem import Draw\n",
        "from rdkit.Chem import rdDepictor\n",
        "IPythonConsole.ipython_useSVG=True\n",
        "rdDepictor.SetPreferCoordGen(True)\n",
        "import requests"
      ],
      "execution_count": null,
      "outputs": []
    },
    {
      "cell_type": "markdown",
      "metadata": {
        "id": "DBLTEqViJnTL"
      },
      "source": [
        "#***RDKit: Introducción***\n",
        "\n",
        "# **Objetivos**\n",
        " \n",
        "1.   Conocer comandos básicos del software RdKit utilizados para la representación de estructuras químicas \n",
        "2.   Aprender la representación de estructuras químicas utilzando notación SMILES\n",
        "\n",
        "#**Introducción**\n",
        "---\n",
        " \n",
        "Este notebook presenta una introducción básica al software <a href=\"https://www.rdkit.org/\">RdKit</a> haciendo especial énfasis en la representación de estructuras de moléculas químicas utilizando la notación <a href=\"https://es.wikipedia.org/wiki/SMILES\">SMILES</a>.\n",
        "\n",
        "El software RDKit es una herramienta de programación utilizada en química informática para realizar estudios de mineria de bases de datos, screening y estudios de estructura-actividad. Algunos de este tipo de herramientas de acceso abierto para uso en química informática incluyen: (i) <a href=\"https://cdk.github.io/\">CDK</a>, (ii) <a href=\"http://www.bioconductor.org/packages/release/bioc/vignettes/ChemmineR/inst/doc/ChemmineR.html\">ChemmineR</a>, (iii) <a href=\"https://lifescience.opensource.epam.com/indigo/\">Indigo</a> (iv) <a href=\"http://openbabel.org/wiki/Main_Page\">CDK</a>, (v) <a href=\"https://3d-e-chem.github.io/\">3D-e-Chem</a>, (v) <a href=\"https://www.rdkit.org/\">RdKit</a>. Una lista más amplia de opciones puede ser consultada en el siguiente <a href=\"https://en.wikipedia.org/wiki/List_of_Cheminformatics_toolkits\">link</a>.\n",
        "\n",
        "\n",
        "##**SMILES**\n",
        "\n",
        "SMILES (**S**implified **M**olecular **I**nput **L**ine **E**ntry **S**pecification permite representar una estructura química utilizando código  <a href=\"https://es.wikipedia.org/wiki/ASCII\">ACSII </a> un `string` (Código Estándar estadounidense para el Intercambio de Información); de esta manera puede ser intepretado facilmente por un ordenador.\n",
        "\n",
        "En la actualidad existen diferentes formatos para la represetación de estructuras moleculares: (i) <a href=\"https://es.wikipedia.org/wiki/SMILES\">SMILES</a>, (ii) <a href=\"https://es.wikipedia.org/wiki/International_Chemical_Identifier\">InChI</a>. (iii) <a href=\"https://en.wikipedia.org/wiki/Chemical_table_fileS\">MOL</a>, (iv)<a href=\"https://en.wikipedia.org/wiki/Chemical_file_format\">SDF</a>. En el 2006 la IUPAC adoptó el formato  InChI como estandar internacional para la representación molecular. Sin embargo, SMILES goza de una gran aceptación y uso por su facilidad de interpretación y lectura humana.\n",
        "\n",
        "En este Notebook utilizarémos el software  <a href=\"https://www.rdkit.org/\">RDKit</a> por medio de Colabs. Iniciaremos revisando las reglas básicas para poder utilizar SMILES.\n",
        "\n",
        "##**Reglas de Notación**\n",
        "\n",
        "**Representación de enlaces:**\n",
        "\n",
        "*  Enlace sencillo: NO se representa. Ejemplo de notación SMILES para molécula etano ($\\small CH_{3}CH_{3}:CC$) \n",
        "*  Enlace doble: Se representa con el símbolo `=`. Ejemplo de notación SMILES para molécula eteno ($\\small CH_{2}CH_{2}:C=C$) \n",
        "*  Enlace triple: Se representa con el símbolo `#`. Ejemplo de notación SMILES para  molécula etino ($\\small CHCH:$$\\small C$#$\\small C$)\n",
        "*  Los elementos se representan con su notación según la tabla periódica. Ejemplo de notación SMILES para molécula Cloruro de metilo($\\small CH_{3}Cl:CCl$) \n",
        "*  No es necesario representar los átomos de hidrógeno, todos los demás elementos deben ser representados. Ejemplo de notación molécula metano ($\\small CH_{4}:C$). Ejemplo de notación SMILES para molécula diclorometano ($\\small CH_{2}Cl_{2}:ClCCl$)\n",
        "*  Cuando sea necesaria información adicional para un elemento específico, se pueden utilizar corchetes. Ejemplo notación SMILES átomo de $\\small Cu^{2+}:[Cu2+]$ \n",
        "\n",
        "**Ramificaciones**\n",
        "\n",
        "*  La ramificación se representa con el símbolo `()` y este símbolo se debe colocar inmediatamente después del elemento al que se encuentra conectado. Ejemplo de notación SMILES para molécula 2-butanol ($\\small (CH_{3})_{2}CHCH_{2}CH_{3}:CC(O)CC$). Ejemplo de notación SMILES para molécula 2-metil-2-butanol ($\\small (CH_{3})_{2}COHCH_{2}CH_{3}:CC(C)(O)CC$) \n",
        "\n",
        "**Ciclos**\n",
        "\n",
        "*  Los ciclos se identifican por el uso de números para indicar el átomo de apertura y cierre del anillo. Ejemplo de notación SMILES para molécula ciclopentano ($\\small C1CCCC1$).\n",
        "\n",
        "*  Los ciclos aromáticos se identifican por el uso de letras minúsculas para indicar los átomos que componen el anillo aromático. Ejemplo de notación SMILES para molécula benceno ($\\small c1ccccc1$).\n",
        "*  Algunas moléculas pueden tener más de una única representación válida en SMILES. Ejemplo de notación SMILES para molécula piridina: (i) $\\small N1=CC=CC=C1$. (ii) $\\small C1=CC=CN=C1$.  (iii) $\\small C1=CN=CC=C1$. \n",
        "\n",
        "Existen distintos generadoresde cadenas SMILES para diferentes moléculas químicas. Adicionalmente, la mayoría de bases de datos utilizan este tipo de notación para referenciar moléculas. Para apoyarnos en la generación de las cadeas SMILES de nuestras moléculas, podemos utilizar cualquiera de los siguientes generadores de notación SMILES: (i) <a href=\"https://pubchem.ncbi.nlm.nih.gov/edit3/index.html\">PubChem Sketcher</a>, (ii)<a href=\"http://www.cheminfo.org/flavor/malaria/Utilities/SMILES_generator___checker/index.html\"> SmilesGeneratorChecker</a>\n",
        "\n",
        "Con la información revisada y el programa RDKit realizarémos algunos ejercicios para representar diferentes tipos de moléculas utilizando la notación SMILES.\n"
      ]
    },
    {
      "cell_type": "markdown",
      "metadata": {
        "id": "72kXgHohEjZ0"
      },
      "source": [
        "---\n",
        "#**Actividad 1**\n",
        "\n",
        "\n",
        "1.   Utilizando el comando `Chem.MolFromSmiles` genera la estructura química del etano, eteno y el etino."
      ]
    },
    {
      "cell_type": "code",
      "metadata": {
        "id": "l1f55jyOGccX",
        "colab": {
          "base_uri": "https://localhost:8080/",
          "height": 171
        },
        "outputId": "40800503-f87a-426f-a7de-754d7f9530af"
      },
      "source": [
        "etano = Chem.MolFromSmiles(\"CC\")\n",
        "etano"
      ],
      "execution_count": null,
      "outputs": [
        {
          "output_type": "execute_result",
          "data": {
            "image/png": "[encoded data removed]",
            "text/plain": [
              "<rdkit.Chem.rdchem.Mol at 0x7f46045a6760>"
            ],
            "image/svg+xml": "<?xml version='1.0' encoding='iso-8859-1'?>\n<svg version='1.1' baseProfile='full'\n              xmlns='http://www.w3.org/2000/svg'\n                      xmlns:rdkit='http://www.rdkit.org/xml'\n                      xmlns:xlink='http://www.w3.org/1999/xlink'\n                  xml:space='preserve'\nwidth='450px' height='150px' viewBox='0 0 450 150'>\n<!-- END OF HEADER -->\n<rect style='opacity:1.0;fill:#FFFFFF;stroke:none' width='450' height='150' x='0' y='0'> </rect>\n<path class='bond-0 atom-0 atom-1' d='M 190.909,75 L 259.091,75' style='fill:none;fill-rule:evenodd;stroke:#000000;stroke-width:2.0px;stroke-linecap:butt;stroke-linejoin:miter;stroke-opacity:1' />\n</svg>\n"
          },
          "metadata": {},
          "execution_count": 4
        }
      ]
    },
    {
      "cell_type": "code",
      "metadata": {
        "id": "T6hHCYpvHWTM",
        "colab": {
          "base_uri": "https://localhost:8080/",
          "height": 171
        },
        "outputId": "376a05dc-6558-4a06-f212-120fe6096428"
      },
      "source": [
        "eteno = Chem.MolFromSmiles(\"C=C\")\n",
        "eteno"
      ],
      "execution_count": null,
      "outputs": [
        {
          "output_type": "execute_result",
          "data": {
            "image/png": "[encoded data removed]",
            "text/plain": [
              "<rdkit.Chem.rdchem.Mol at 0x7f460c690670>"
            ],
            "image/svg+xml": "<?xml version='1.0' encoding='iso-8859-1'?>\n<svg version='1.1' baseProfile='full'\n              xmlns='http://www.w3.org/2000/svg'\n                      xmlns:rdkit='http://www.rdkit.org/xml'\n                      xmlns:xlink='http://www.w3.org/1999/xlink'\n                  xml:space='preserve'\nwidth='450px' height='150px' viewBox='0 0 450 150'>\n<!-- END OF HEADER -->\n<rect style='opacity:1.0;fill:#FFFFFF;stroke:none' width='450' height='150' x='0' y='0'> </rect>\n<path class='bond-0 atom-0 atom-1' d='M 190.909,81.1364 L 259.091,81.1364' style='fill:none;fill-rule:evenodd;stroke:#000000;stroke-width:2.0px;stroke-linecap:butt;stroke-linejoin:miter;stroke-opacity:1' />\n<path class='bond-0 atom-0 atom-1' d='M 190.909,68.8636 L 259.091,68.8636' style='fill:none;fill-rule:evenodd;stroke:#000000;stroke-width:2.0px;stroke-linecap:butt;stroke-linejoin:miter;stroke-opacity:1' />\n</svg>\n"
          },
          "metadata": {},
          "execution_count": 5
        }
      ]
    },
    {
      "cell_type": "code",
      "metadata": {
        "id": "WUgCqlmvHa3C",
        "colab": {
          "base_uri": "https://localhost:8080/",
          "height": 171
        },
        "outputId": "5be99e7d-0fef-4f86-9d66-b28e306fcfd9"
      },
      "source": [
        "etino = Chem.MolFromSmiles(\"C#C\")\n",
        "etino"
      ],
      "execution_count": null,
      "outputs": [
        {
          "output_type": "execute_result",
          "data": {
            "image/png": "[encoded data removed]",
            "text/plain": [
              "<rdkit.Chem.rdchem.Mol at 0x7f460459d8f0>"
            ],
            "image/svg+xml": "<?xml version='1.0' encoding='iso-8859-1'?>\n<svg version='1.1' baseProfile='full'\n              xmlns='http://www.w3.org/2000/svg'\n                      xmlns:rdkit='http://www.rdkit.org/xml'\n                      xmlns:xlink='http://www.w3.org/1999/xlink'\n                  xml:space='preserve'\nwidth='450px' height='150px' viewBox='0 0 450 150'>\n<!-- END OF HEADER -->\n<rect style='opacity:1.0;fill:#FFFFFF;stroke:none' width='450' height='150' x='0' y='0'> </rect>\n<path class='bond-0 atom-0 atom-1' d='M 190.909,75 L 259.091,75' style='fill:none;fill-rule:evenodd;stroke:#000000;stroke-width:2.0px;stroke-linecap:butt;stroke-linejoin:miter;stroke-opacity:1' />\n<path class='bond-0 atom-0 atom-1' d='M 190.909,87.2727 L 259.091,87.2727' style='fill:none;fill-rule:evenodd;stroke:#000000;stroke-width:2.0px;stroke-linecap:butt;stroke-linejoin:miter;stroke-opacity:1' />\n<path class='bond-0 atom-0 atom-1' d='M 190.909,62.7273 L 259.091,62.7273' style='fill:none;fill-rule:evenodd;stroke:#000000;stroke-width:2.0px;stroke-linecap:butt;stroke-linejoin:miter;stroke-opacity:1' />\n</svg>\n"
          },
          "metadata": {},
          "execution_count": 6
        }
      ]
    },
    {
      "cell_type": "code",
      "metadata": {
        "id": "ngZlY6pBtyyj",
        "colab": {
          "base_uri": "https://localhost:8080/",
          "height": 171
        },
        "outputId": "a35038c8-cc38-46d6-860b-719528132eae"
      },
      "source": [
        "etino= Chem.AddHs(etino)  #Se mostrará en la estructura los átomos de Hidrogeno\n",
        "etino"
      ],
      "execution_count": null,
      "outputs": [
        {
          "output_type": "execute_result",
          "data": {
            "image/png": "[encoded data removed]",
            "text/plain": [
              "<rdkit.Chem.rdchem.Mol at 0x7f4604623350>"
            ],
            "image/svg+xml": "<?xml version='1.0' encoding='iso-8859-1'?>\n<svg version='1.1' baseProfile='full'\n              xmlns='http://www.w3.org/2000/svg'\n                      xmlns:rdkit='http://www.rdkit.org/xml'\n                      xmlns:xlink='http://www.w3.org/1999/xlink'\n                  xml:space='preserve'\nwidth='450px' height='150px' viewBox='0 0 450 150'>\n<!-- END OF HEADER -->\n<rect style='opacity:1.0;fill:#FFFFFF;stroke:none' width='450' height='150' x='0' y='0'> </rect>\n<path class='bond-0 atom-0 atom-1' d='M 257.095,93.4457 L 192.905,56.5543' style='fill:none;fill-rule:evenodd;stroke:#000000;stroke-width:2.0px;stroke-linecap:butt;stroke-linejoin:miter;stroke-opacity:1' />\n<path class='bond-0 atom-0 atom-1' d='M 254.105,76.3604 L 209.173,50.5363' style='fill:none;fill-rule:evenodd;stroke:#000000;stroke-width:2.0px;stroke-linecap:butt;stroke-linejoin:miter;stroke-opacity:1' />\n<path class='bond-0 atom-0 atom-1' d='M 240.827,99.4637 L 195.895,73.6396' style='fill:none;fill-rule:evenodd;stroke:#000000;stroke-width:2.0px;stroke-linecap:butt;stroke-linejoin:miter;stroke-opacity:1' />\n<path class='bond-1 atom-0 atom-2' d='M 257.095,93.4457 L 308.34,122.892' style='fill:none;fill-rule:evenodd;stroke:#000000;stroke-width:2.0px;stroke-linecap:butt;stroke-linejoin:miter;stroke-opacity:1' />\n<path class='bond-2 atom-1 atom-3' d='M 192.905,56.5543 L 141.66,27.1078' style='fill:none;fill-rule:evenodd;stroke:#000000;stroke-width:2.0px;stroke-linecap:butt;stroke-linejoin:miter;stroke-opacity:1' />\n<path  class='atom-2' d='M 310.19 116.162\nL 314.03 116.162\nL 314.03 128.202\nL 328.51 128.202\nL 328.51 116.162\nL 332.35 116.162\nL 332.35 144.482\nL 328.51 144.482\nL 328.51 131.402\nL 314.03 131.402\nL 314.03 144.482\nL 310.19 144.482\nL 310.19 116.162\n' fill='#000000'/>\n<path  class='atom-3' d='M 117.65 5.51764\nL 121.49 5.51764\nL 121.49 17.5576\nL 135.97 17.5576\nL 135.97 5.51764\nL 139.81 5.51764\nL 139.81 33.8376\nL 135.97 33.8376\nL 135.97 20.7576\nL 121.49 20.7576\nL 121.49 33.8376\nL 117.65 33.8376\nL 117.65 5.51764\n' fill='#000000'/>\n</svg>\n"
          },
          "metadata": {},
          "execution_count": 9
        }
      ]
    },
    {
      "cell_type": "markdown",
      "metadata": {
        "id": "coha8RicHtnF"
      },
      "source": [
        "2.   Utilizando el comando `Chem.MolFromSmiles` genera la estructura química del 2.metil-2-butanol, ciclohexano, ciclohexeno, benceno, piridina."
      ]
    },
    {
      "cell_type": "code",
      "metadata": {
        "id": "xt83mgBbHtL9",
        "colab": {
          "base_uri": "https://localhost:8080/",
          "height": 171
        },
        "outputId": "4863128e-7e3f-4b02-c218-59d18b3fff4e"
      },
      "source": [
        "metilbutanol = Chem.MolFromSmiles(\"CC(C)(O)CC\")\n",
        "metilbutanol"
      ],
      "execution_count": null,
      "outputs": [
        {
          "output_type": "execute_result",
          "data": {
            "image/png": "[encoded data removed]",
            "text/plain": [
              "<rdkit.Chem.rdchem.Mol at 0x7f4441f8d530>"
            ],
            "image/svg+xml": "<?xml version='1.0' encoding='iso-8859-1'?>\n<svg version='1.1' baseProfile='full'\n              xmlns='http://www.w3.org/2000/svg'\n                      xmlns:rdkit='http://www.rdkit.org/xml'\n                      xmlns:xlink='http://www.w3.org/1999/xlink'\n                  xml:space='preserve'\nwidth='450px' height='150px' viewBox='0 0 450 150'>\n<!-- END OF HEADER -->\n<rect style='opacity:1.0;fill:#FFFFFF;stroke:none' width='450' height='150' x='0' y='0'> </rect>\n<path class='bond-0 atom-0 atom-1' d='M 309.139,19.754 L 264.072,97.9707' style='fill:none;fill-rule:evenodd;stroke:#000000;stroke-width:2.0px;stroke-linecap:butt;stroke-linejoin:miter;stroke-opacity:1' />\n<path class='bond-1 atom-1 atom-2' d='M 264.072,97.9707 L 342.289,143.055' style='fill:none;fill-rule:evenodd;stroke:#000000;stroke-width:2.0px;stroke-linecap:butt;stroke-linejoin:miter;stroke-opacity:1' />\n<path class='bond-2 atom-1 atom-3' d='M 264.072,97.9707 L 246.389,67.4069' style='fill:none;fill-rule:evenodd;stroke:#000000;stroke-width:2.0px;stroke-linecap:butt;stroke-linejoin:miter;stroke-opacity:1' />\n<path class='bond-2 atom-1 atom-3' d='M 246.389,67.4069 L 228.706,36.8432' style='fill:none;fill-rule:evenodd;stroke:#FF0000;stroke-width:2.0px;stroke-linecap:butt;stroke-linejoin:miter;stroke-opacity:1' />\n<path class='bond-3 atom-1 atom-4' d='M 264.072,97.9707 L 185.928,143.182' style='fill:none;fill-rule:evenodd;stroke:#000000;stroke-width:2.0px;stroke-linecap:butt;stroke-linejoin:miter;stroke-opacity:1' />\n<path class='bond-4 atom-4 atom-5' d='M 185.928,143.182 L 107.711,98.0971' style='fill:none;fill-rule:evenodd;stroke:#000000;stroke-width:2.0px;stroke-linecap:butt;stroke-linejoin:miter;stroke-opacity:1' />\n<path  class='atom-3' d='M 181.701 5.82617\nL 185.541 5.82617\nL 185.541 17.8662\nL 200.021 17.8662\nL 200.021 5.82617\nL 203.861 5.82617\nL 203.861 34.1462\nL 200.021 34.1462\nL 200.021 21.0662\nL 185.541 21.0662\nL 185.541 34.1462\nL 181.701 34.1462\nL 181.701 5.82617\n' fill='#FF0000'/>\n<path  class='atom-3' d='M 205.861 19.9062\nQ 205.861 13.1062, 209.221 9.30617\nQ 212.581 5.50617, 218.861 5.50617\nQ 225.141 5.50617, 228.501 9.30617\nQ 231.861 13.1062, 231.861 19.9062\nQ 231.861 26.7862, 228.461 30.7062\nQ 225.061 34.5862, 218.861 34.5862\nQ 212.621 34.5862, 209.221 30.7062\nQ 205.861 26.8262, 205.861 19.9062\nM 218.861 31.3862\nQ 223.181 31.3862, 225.501 28.5062\nQ 227.861 25.5862, 227.861 19.9062\nQ 227.861 14.3462, 225.501 11.5462\nQ 223.181 8.70617, 218.861 8.70617\nQ 214.541 8.70617, 212.181 11.5062\nQ 209.861 14.3062, 209.861 19.9062\nQ 209.861 25.6262, 212.181 28.5062\nQ 214.541 31.3862, 218.861 31.3862\n' fill='#FF0000'/>\n</svg>\n"
          },
          "metadata": {},
          "execution_count": 6
        }
      ]
    },
    {
      "cell_type": "code",
      "metadata": {
        "colab": {
          "base_uri": "https://localhost:8080/",
          "height": 171
        },
        "id": "mGHKYClRIbWs",
        "outputId": "56b07b71-d9c7-48e9-c46e-0d2fa69176a8"
      },
      "source": [
        "ciclohexano = Chem.MolFromSmiles(\"C1CCCCC1\")\n",
        "ciclohexano"
      ],
      "execution_count": null,
      "outputs": [
        {
          "output_type": "execute_result",
          "data": {
            "image/png": "[encoded data removed]",
            "text/plain": [
              "<rdkit.Chem.rdchem.Mol at 0x7f4441f874e0>"
            ],
            "image/svg+xml": "<?xml version='1.0' encoding='iso-8859-1'?>\n<svg version='1.1' baseProfile='full'\n              xmlns='http://www.w3.org/2000/svg'\n                      xmlns:rdkit='http://www.rdkit.org/xml'\n                      xmlns:xlink='http://www.w3.org/1999/xlink'\n                  xml:space='preserve'\nwidth='450px' height='150px' viewBox='0 0 450 150'>\n<!-- END OF HEADER -->\n<rect style='opacity:1.0;fill:#FFFFFF;stroke:none' width='450' height='150' x='0' y='0'> </rect>\n<path class='bond-0 atom-0 atom-1' d='M 165.927,109.05 L 165.982,40.8682' style='fill:none;fill-rule:evenodd;stroke:#000000;stroke-width:2.0px;stroke-linecap:butt;stroke-linejoin:miter;stroke-opacity:1' />\n<path class='bond-5 atom-5 atom-0' d='M 224.945,143.182 L 165.927,109.05' style='fill:none;fill-rule:evenodd;stroke:#000000;stroke-width:2.0px;stroke-linecap:butt;stroke-linejoin:miter;stroke-opacity:1' />\n<path class='bond-1 atom-1 atom-2' d='M 165.982,40.8682 L 225.055,6.81818' style='fill:none;fill-rule:evenodd;stroke:#000000;stroke-width:2.0px;stroke-linecap:butt;stroke-linejoin:miter;stroke-opacity:1' />\n<path class='bond-2 atom-2 atom-3' d='M 225.055,6.81818 L 284.073,40.95' style='fill:none;fill-rule:evenodd;stroke:#000000;stroke-width:2.0px;stroke-linecap:butt;stroke-linejoin:miter;stroke-opacity:1' />\n<path class='bond-3 atom-3 atom-4' d='M 284.073,40.95 L 284.018,109.132' style='fill:none;fill-rule:evenodd;stroke:#000000;stroke-width:2.0px;stroke-linecap:butt;stroke-linejoin:miter;stroke-opacity:1' />\n<path class='bond-4 atom-4 atom-5' d='M 284.018,109.132 L 224.945,143.182' style='fill:none;fill-rule:evenodd;stroke:#000000;stroke-width:2.0px;stroke-linecap:butt;stroke-linejoin:miter;stroke-opacity:1' />\n</svg>\n"
          },
          "metadata": {},
          "execution_count": 7
        }
      ]
    },
    {
      "cell_type": "code",
      "metadata": {
        "colab": {
          "base_uri": "https://localhost:8080/",
          "height": 171
        },
        "id": "6FJ8Sp13Ig9y",
        "outputId": "cc3e7b4a-a854-46e4-94bd-54d7129e1627"
      },
      "source": [
        "benceno = Chem.MolFromSmiles(\"c1ccccc1\")\n",
        "benceno"
      ],
      "execution_count": null,
      "outputs": [
        {
          "output_type": "execute_result",
          "data": {
            "image/png": "[encoded data removed]",
            "text/plain": [
              "<rdkit.Chem.rdchem.Mol at 0x7f4441ffad00>"
            ],
            "image/svg+xml": "<?xml version='1.0' encoding='iso-8859-1'?>\n<svg version='1.1' baseProfile='full'\n              xmlns='http://www.w3.org/2000/svg'\n                      xmlns:rdkit='http://www.rdkit.org/xml'\n                      xmlns:xlink='http://www.w3.org/1999/xlink'\n                  xml:space='preserve'\nwidth='450px' height='150px' viewBox='0 0 450 150'>\n<!-- END OF HEADER -->\n<rect style='opacity:1.0;fill:#FFFFFF;stroke:none' width='450' height='150' x='0' y='0'> </rect>\n<path class='bond-0 atom-0 atom-1' d='M 165.927,109.05 L 165.982,40.8682' style='fill:none;fill-rule:evenodd;stroke:#000000;stroke-width:2.0px;stroke-linecap:butt;stroke-linejoin:miter;stroke-opacity:1' />\n<path class='bond-0 atom-0 atom-1' d='M 178.208,98.8325 L 178.246,51.1053' style='fill:none;fill-rule:evenodd;stroke:#000000;stroke-width:2.0px;stroke-linecap:butt;stroke-linejoin:miter;stroke-opacity:1' />\n<path class='bond-5 atom-5 atom-0' d='M 224.945,143.182 L 165.927,109.05' style='fill:none;fill-rule:evenodd;stroke:#000000;stroke-width:2.0px;stroke-linecap:butt;stroke-linejoin:miter;stroke-opacity:1' />\n<path class='bond-1 atom-1 atom-2' d='M 165.982,40.8682 L 225.055,6.81818' style='fill:none;fill-rule:evenodd;stroke:#000000;stroke-width:2.0px;stroke-linecap:butt;stroke-linejoin:miter;stroke-opacity:1' />\n<path class='bond-2 atom-2 atom-3' d='M 225.055,6.81818 L 284.073,40.95' style='fill:none;fill-rule:evenodd;stroke:#000000;stroke-width:2.0px;stroke-linecap:butt;stroke-linejoin:miter;stroke-opacity:1' />\n<path class='bond-2 atom-2 atom-3' d='M 227.763,22.562 L 269.076,46.4542' style='fill:none;fill-rule:evenodd;stroke:#000000;stroke-width:2.0px;stroke-linecap:butt;stroke-linejoin:miter;stroke-opacity:1' />\n<path class='bond-3 atom-3 atom-4' d='M 284.073,40.95 L 284.018,109.132' style='fill:none;fill-rule:evenodd;stroke:#000000;stroke-width:2.0px;stroke-linecap:butt;stroke-linejoin:miter;stroke-opacity:1' />\n<path class='bond-4 atom-4 atom-5' d='M 284.018,109.132 L 224.945,143.182' style='fill:none;fill-rule:evenodd;stroke:#000000;stroke-width:2.0px;stroke-linecap:butt;stroke-linejoin:miter;stroke-opacity:1' />\n<path class='bond-4 atom-4 atom-5' d='M 269.028,103.606 L 227.678,127.441' style='fill:none;fill-rule:evenodd;stroke:#000000;stroke-width:2.0px;stroke-linecap:butt;stroke-linejoin:miter;stroke-opacity:1' />\n</svg>\n"
          },
          "metadata": {},
          "execution_count": 8
        }
      ]
    },
    {
      "cell_type": "code",
      "metadata": {
        "id": "Nf6YBEyjIqwZ",
        "colab": {
          "base_uri": "https://localhost:8080/",
          "height": 171
        },
        "outputId": "1cc2fe9e-6e30-45bb-a0b0-77540b7baf64"
      },
      "source": [
        "piridina = Chem.MolFromSmiles(\"C1=CN=CC=C1\")\n",
        "piridina"
      ],
      "execution_count": null,
      "outputs": [
        {
          "output_type": "execute_result",
          "data": {
            "image/png": "[encoded data removed]",
            "text/plain": [
              "<rdkit.Chem.rdchem.Mol at 0x7f4604539850>"
            ],
            "image/svg+xml": "<?xml version='1.0' encoding='iso-8859-1'?>\n<svg version='1.1' baseProfile='full'\n              xmlns='http://www.w3.org/2000/svg'\n                      xmlns:rdkit='http://www.rdkit.org/xml'\n                      xmlns:xlink='http://www.w3.org/1999/xlink'\n                  xml:space='preserve'\nwidth='450px' height='150px' viewBox='0 0 450 150'>\n<!-- END OF HEADER -->\n<rect style='opacity:1.0;fill:#FFFFFF;stroke:none' width='450' height='150' x='0' y='0'> </rect>\n<path class='bond-0 atom-0 atom-1' d='M 229.936,6.81818 L 170.864,40.8682' style='fill:none;fill-rule:evenodd;stroke:#000000;stroke-width:2.0px;stroke-linecap:butt;stroke-linejoin:miter;stroke-opacity:1' />\n<path class='bond-0 atom-0 atom-1' d='M 227.204,22.5585 L 185.853,46.3935' style='fill:none;fill-rule:evenodd;stroke:#000000;stroke-width:2.0px;stroke-linecap:butt;stroke-linejoin:miter;stroke-opacity:1' />\n<path class='bond-5 atom-5 atom-0' d='M 288.955,40.95 L 229.936,6.81818' style='fill:none;fill-rule:evenodd;stroke:#000000;stroke-width:2.0px;stroke-linecap:butt;stroke-linejoin:miter;stroke-opacity:1' />\n<path class='bond-1 atom-1 atom-2' d='M 170.864,40.8682 L 170.841,68.6761' style='fill:none;fill-rule:evenodd;stroke:#000000;stroke-width:2.0px;stroke-linecap:butt;stroke-linejoin:miter;stroke-opacity:1' />\n<path class='bond-1 atom-1 atom-2' d='M 170.841,68.6761 L 170.819,96.4841' style='fill:none;fill-rule:evenodd;stroke:#0000FF;stroke-width:2.0px;stroke-linecap:butt;stroke-linejoin:miter;stroke-opacity:1' />\n<path class='bond-2 atom-2 atom-3' d='M 180.752,114.8 L 205.289,128.991' style='fill:none;fill-rule:evenodd;stroke:#0000FF;stroke-width:2.0px;stroke-linecap:butt;stroke-linejoin:miter;stroke-opacity:1' />\n<path class='bond-2 atom-2 atom-3' d='M 205.289,128.991 L 229.827,143.182' style='fill:none;fill-rule:evenodd;stroke:#000000;stroke-width:2.0px;stroke-linecap:butt;stroke-linejoin:miter;stroke-opacity:1' />\n<path class='bond-2 atom-2 atom-3' d='M 194.257,108.433 L 211.434,118.367' style='fill:none;fill-rule:evenodd;stroke:#0000FF;stroke-width:2.0px;stroke-linecap:butt;stroke-linejoin:miter;stroke-opacity:1' />\n<path class='bond-2 atom-2 atom-3' d='M 211.434,118.367 L 228.61,128.301' style='fill:none;fill-rule:evenodd;stroke:#000000;stroke-width:2.0px;stroke-linecap:butt;stroke-linejoin:miter;stroke-opacity:1' />\n<path class='bond-3 atom-3 atom-4' d='M 229.827,143.182 L 288.9,109.132' style='fill:none;fill-rule:evenodd;stroke:#000000;stroke-width:2.0px;stroke-linecap:butt;stroke-linejoin:miter;stroke-opacity:1' />\n<path class='bond-4 atom-4 atom-5' d='M 288.9,109.132 L 288.955,40.95' style='fill:none;fill-rule:evenodd;stroke:#000000;stroke-width:2.0px;stroke-linecap:butt;stroke-linejoin:miter;stroke-opacity:1' />\n<path class='bond-4 atom-4 atom-5' d='M 276.635,98.8947 L 276.674,51.1675' style='fill:none;fill-rule:evenodd;stroke:#000000;stroke-width:2.0px;stroke-linecap:butt;stroke-linejoin:miter;stroke-opacity:1' />\n<path  class='atom-2' d='M 166.007 98.1886\nL 173.126 109.694\nQ 173.831 110.83, 174.966 112.885\nQ 176.102 114.941, 176.163 115.064\nL 176.163 98.1886\nL 179.047 98.1886\nL 179.047 119.911\nL 176.071 119.911\nL 168.431 107.332\nQ 167.541 105.859, 166.59 104.172\nQ 165.67 102.484, 165.394 101.962\nL 165.394 119.911\nL 162.571 119.911\nL 162.571 98.1886\nL 166.007 98.1886\n' fill='#0000FF'/>\n</svg>\n"
          },
          "metadata": {},
          "execution_count": 10
        }
      ]
    },
    {
      "cell_type": "markdown",
      "metadata": {
        "id": "Xn2sXoxfJCU5"
      },
      "source": [
        "3.   Ahora es tu turno, utilizando el comando `Chem.MolFromSmiles` genera la estructura química del naftaleno y el pirrol."
      ]
    },
    {
      "cell_type": "code",
      "metadata": {
        "id": "k-oReu2yJLer"
      },
      "source": [
        ""
      ],
      "execution_count": null,
      "outputs": []
    },
    {
      "cell_type": "markdown",
      "metadata": {
        "id": "WvW1vAA8Jo2g"
      },
      "source": [
        "#**Actividad 2**\n",
        "\n",
        "Cuando las moléculas son más complejas, la generación de la cadena SMILES puede presentar mayor dificultad. Para estos casos podémos utilizar un generador de SMILES o utilizar una base de datos. Hagámos un ejercicio con el generador de cadenas SMILES <a href=\"https://pubchem.ncbi.nlm.nih.gov/edit3/index.html\">PubChem Sketcher</a>. \n",
        "\n",
        "1.   Abre en una nueva ventana el siguiente link: <a href=\"https://pubchem.ncbi.nlm.nih.gov/edit3/index.html\">PubChem Sketcher</a>\n",
        "1.   Utilizando el generador de SMILES crea la estructura de 2,4,6-Trinitrotolueno.\n",
        "1.   Utilizando la siguiente celda de código genera la estructura química del 2,4,6-Trinitrotolueno a apartir de la cadena SMILES obtenida."
      ]
    },
    {
      "cell_type": "code",
      "metadata": {
        "id": "24f2AndoLQCL"
      },
      "source": [
        ""
      ],
      "execution_count": null,
      "outputs": []
    },
    {
      "cell_type": "markdown",
      "metadata": {
        "id": "FzyWBlzBLQ8-"
      },
      "source": [
        "1.   Abre en una nueva ventana el siguiente alguno de los siguientes generadores de notación SMILES: (i) <a href=\"https://pubchem.ncbi.nlm.nih.gov/edit3/index.html\">PubChem Sketcher</a>, (ii)<a href=\"http://www.cheminfo.org/flavor/malaria/Utilities/SMILES_generator___checker/index.html\"> SmilesGeneratorChecker</a>\n",
        "1.   Utilizando el generador de SMILES crea la estructura de la cianidina.\n",
        "1.   Utilizando la siguiente celda de código genera la estructura química del la cianidina apartir de la cadena SMILES obtenida."
      ]
    },
    {
      "cell_type": "code",
      "metadata": {
        "id": "n7wWxYcuLySX"
      },
      "source": [
        ""
      ],
      "execution_count": null,
      "outputs": []
    },
    {
      "cell_type": "markdown",
      "metadata": {
        "id": "iS1H85f9MBH3"
      },
      "source": [
        "#**Actividad 3**\n",
        "\n",
        "También podemos crear listas con las cadenas SMILES para representar varias moléculas al mismo tiempo. Vamos a crear una lista con todas las moléculas creadas en la actividad 1 y las vamos a presentar en un solo gráfico."
      ]
    },
    {
      "cell_type": "code",
      "metadata": {
        "colab": {
          "base_uri": "https://localhost:8080/",
          "height": 621
        },
        "id": "dO0cJ6XSM0uv",
        "outputId": "77c2866e-2a0a-456d-f956-592772b09385"
      },
      "source": [
        "lista=[etano, eteno, etino, metilbutanol, ciclohexano, benceno, piridina]   #creamos la lista con las moléculas\n",
        "Draw.MolsToGridImage(lista, useSVG=True)"
      ],
      "execution_count": null,
      "outputs": [
        {
          "output_type": "execute_result",
          "data": {
            "text/plain": [
              "<IPython.core.display.SVG object>"
            ],
            "image/svg+xml": "<svg baseProfile=\"full\" height=\"600px\" version=\"1.1\" viewBox=\"0 0 600 600\" width=\"600px\" xml:space=\"preserve\" xmlns=\"http://www.w3.org/2000/svg\" xmlns:rdkit=\"http://www.rdkit.org/xml\" xmlns:xlink=\"http://www.w3.org/1999/xlink\">\n<!-- END OF HEADER -->\n<rect height=\"600\" style=\"opacity:1.0;fill:#FFFFFF;stroke:none\" width=\"600\" x=\"0\" y=\"0\"> </rect>\n<rect height=\"600\" style=\"opacity:1.0;fill:#FFFFFF;stroke:none\" width=\"600\" x=\"0\" y=\"0\"> </rect>\n<rect height=\"600\" style=\"opacity:1.0;fill:#FFFFFF;stroke:none\" width=\"600\" x=\"0\" y=\"0\"> </rect>\n<rect height=\"600\" style=\"opacity:1.0;fill:#FFFFFF;stroke:none\" width=\"600\" x=\"0\" y=\"0\"> </rect>\n<rect height=\"600\" style=\"opacity:1.0;fill:#FFFFFF;stroke:none\" width=\"600\" x=\"0\" y=\"0\"> </rect>\n<rect height=\"600\" style=\"opacity:1.0;fill:#FFFFFF;stroke:none\" width=\"600\" x=\"0\" y=\"0\"> </rect>\n<rect height=\"600\" style=\"opacity:1.0;fill:#FFFFFF;stroke:none\" width=\"600\" x=\"0\" y=\"0\"> </rect>\n<rect height=\"600\" style=\"opacity:1.0;fill:#FFFFFF;stroke:none\" width=\"600\" x=\"0\" y=\"0\"> </rect>\n<path class=\"bond-0 atom-0 atom-1\" d=\"M 75.0896,100 L 145.063,100\" style=\"fill:none;fill-rule:evenodd;stroke:#000000;stroke-width:2.0px;stroke-linecap:butt;stroke-linejoin:miter;stroke-opacity:1\"/>\n<path class=\"bond-0 atom-0 atom-1\" d=\"M 275.09,106.298 L 345.063,106.298\" style=\"fill:none;fill-rule:evenodd;stroke:#000000;stroke-width:2.0px;stroke-linecap:butt;stroke-linejoin:miter;stroke-opacity:1\"/>\n<path class=\"bond-0 atom-0 atom-1\" d=\"M 275.09,93.7024 L 345.063,93.7024\" style=\"fill:none;fill-rule:evenodd;stroke:#000000;stroke-width:2.0px;stroke-linecap:butt;stroke-linejoin:miter;stroke-opacity:1\"/>\n<path class=\"bond-0 atom-0 atom-1\" d=\"M 475.09,100 L 545.063,100\" style=\"fill:none;fill-rule:evenodd;stroke:#000000;stroke-width:2.0px;stroke-linecap:butt;stroke-linejoin:miter;stroke-opacity:1\"/>\n<path class=\"bond-0 atom-0 atom-1\" d=\"M 475.09,112.595 L 545.063,112.595\" style=\"fill:none;fill-rule:evenodd;stroke:#000000;stroke-width:2.0px;stroke-linecap:butt;stroke-linejoin:miter;stroke-opacity:1\"/>\n<path class=\"bond-0 atom-0 atom-1\" d=\"M 475.09,87.4048 L 545.063,87.4048\" style=\"fill:none;fill-rule:evenodd;stroke:#000000;stroke-width:2.0px;stroke-linecap:butt;stroke-linejoin:miter;stroke-opacity:1\"/>\n<path class=\"bond-0 atom-0 atom-1\" d=\"M 165.215,247.893 L 130.284,308.518\" style=\"fill:none;fill-rule:evenodd;stroke:#000000;stroke-width:2.0px;stroke-linecap:butt;stroke-linejoin:miter;stroke-opacity:1\"/>\n<path class=\"bond-1 atom-1 atom-2\" d=\"M 130.284,308.518 L 190.909,343.463\" style=\"fill:none;fill-rule:evenodd;stroke:#000000;stroke-width:2.0px;stroke-linecap:butt;stroke-linejoin:miter;stroke-opacity:1\"/>\n<path class=\"bond-2 atom-1 atom-3\" d=\"M 130.284,308.518 L 113.91,280.215\" style=\"fill:none;fill-rule:evenodd;stroke:#000000;stroke-width:2.0px;stroke-linecap:butt;stroke-linejoin:miter;stroke-opacity:1\"/>\n<path class=\"bond-2 atom-1 atom-3\" d=\"M 113.91,280.215 L 97.5349,251.913\" style=\"fill:none;fill-rule:evenodd;stroke:#FF0000;stroke-width:2.0px;stroke-linecap:butt;stroke-linejoin:miter;stroke-opacity:1\"/>\n<path class=\"bond-3 atom-1 atom-4\" d=\"M 130.284,308.518 L 69.7156,343.561\" style=\"fill:none;fill-rule:evenodd;stroke:#000000;stroke-width:2.0px;stroke-linecap:butt;stroke-linejoin:miter;stroke-opacity:1\"/>\n<path class=\"bond-4 atom-4 atom-5\" d=\"M 69.7156,343.561 L 9.09091,308.616\" style=\"fill:none;fill-rule:evenodd;stroke:#000000;stroke-width:2.0px;stroke-linecap:butt;stroke-linejoin:miter;stroke-opacity:1\"/>\n<path class=\"atom-3\" d=\"M 89.6678 245.849 L 90.2438 245.849 L 90.2438 247.655 L 92.4158 247.655 L 92.4158 245.849 L 92.9918 245.849 L 92.9918 250.097 L 92.4158 250.097 L 92.4158 248.135 L 90.2438 248.135 L 90.2438 250.097 L 89.6678 250.097 L 89.6678 245.849 \" fill=\"#FF0000\"/>\n<path class=\"atom-3\" d=\"M 93.2918 247.961 Q 93.2918 246.941, 93.7958 246.371 Q 94.2998 245.801, 95.2418 245.801 Q 96.1838 245.801, 96.6878 246.371 Q 97.1918 246.941, 97.1918 247.961 Q 97.1918 248.993, 96.6818 249.581 Q 96.1718 250.163, 95.2418 250.163 Q 94.3058 250.163, 93.7958 249.581 Q 93.2918 248.999, 93.2918 247.961 M 95.2418 249.683 Q 95.8898 249.683, 96.2378 249.251 Q 96.5918 248.813, 96.5918 247.961 Q 96.5918 247.127, 96.2378 246.707 Q 95.8898 246.281, 95.2418 246.281 Q 94.5938 246.281, 94.2398 246.701 Q 93.8918 247.121, 93.8918 247.961 Q 93.8918 248.819, 94.2398 249.251 Q 94.5938 249.683, 95.2418 249.683 \" fill=\"#FF0000\"/>\n<path class=\"bond-0 atom-0 atom-1\" d=\"M 249.451,334.945 L 249.507,264.971\" style=\"fill:none;fill-rule:evenodd;stroke:#000000;stroke-width:2.0px;stroke-linecap:butt;stroke-linejoin:miter;stroke-opacity:1\"/>\n<path class=\"bond-5 atom-5 atom-0\" d=\"M 310.02,369.973 L 249.451,334.945\" style=\"fill:none;fill-rule:evenodd;stroke:#000000;stroke-width:2.0px;stroke-linecap:butt;stroke-linejoin:miter;stroke-opacity:1\"/>\n<path class=\"bond-1 atom-1 atom-2\" d=\"M 249.507,264.971 L 310.132,230.027\" style=\"fill:none;fill-rule:evenodd;stroke:#000000;stroke-width:2.0px;stroke-linecap:butt;stroke-linejoin:miter;stroke-opacity:1\"/>\n<path class=\"bond-2 atom-2 atom-3\" d=\"M 310.132,230.027 L 370.701,265.055\" style=\"fill:none;fill-rule:evenodd;stroke:#000000;stroke-width:2.0px;stroke-linecap:butt;stroke-linejoin:miter;stroke-opacity:1\"/>\n<path class=\"bond-3 atom-3 atom-4\" d=\"M 370.701,265.055 L 370.645,335.029\" style=\"fill:none;fill-rule:evenodd;stroke:#000000;stroke-width:2.0px;stroke-linecap:butt;stroke-linejoin:miter;stroke-opacity:1\"/>\n<path class=\"bond-4 atom-4 atom-5\" d=\"M 370.645,335.029 L 310.02,369.973\" style=\"fill:none;fill-rule:evenodd;stroke:#000000;stroke-width:2.0px;stroke-linecap:butt;stroke-linejoin:miter;stroke-opacity:1\"/>\n<path class=\"bond-0 atom-0 atom-1\" d=\"M 449.451,334.945 L 449.507,264.971\" style=\"fill:none;fill-rule:evenodd;stroke:#000000;stroke-width:2.0px;stroke-linecap:butt;stroke-linejoin:miter;stroke-opacity:1\"/>\n<path class=\"bond-0 atom-0 atom-1\" d=\"M 462.055,324.459 L 462.094,275.477\" style=\"fill:none;fill-rule:evenodd;stroke:#000000;stroke-width:2.0px;stroke-linecap:butt;stroke-linejoin:miter;stroke-opacity:1\"/>\n<path class=\"bond-5 atom-5 atom-0\" d=\"M 510.02,369.973 L 449.451,334.945\" style=\"fill:none;fill-rule:evenodd;stroke:#000000;stroke-width:2.0px;stroke-linecap:butt;stroke-linejoin:miter;stroke-opacity:1\"/>\n<path class=\"bond-1 atom-1 atom-2\" d=\"M 449.507,264.971 L 510.132,230.027\" style=\"fill:none;fill-rule:evenodd;stroke:#000000;stroke-width:2.0px;stroke-linecap:butt;stroke-linejoin:miter;stroke-opacity:1\"/>\n<path class=\"bond-2 atom-2 atom-3\" d=\"M 510.132,230.027 L 570.701,265.055\" style=\"fill:none;fill-rule:evenodd;stroke:#000000;stroke-width:2.0px;stroke-linecap:butt;stroke-linejoin:miter;stroke-opacity:1\"/>\n<path class=\"bond-2 atom-2 atom-3\" d=\"M 512.912,246.184 L 555.31,270.704\" style=\"fill:none;fill-rule:evenodd;stroke:#000000;stroke-width:2.0px;stroke-linecap:butt;stroke-linejoin:miter;stroke-opacity:1\"/>\n<path class=\"bond-3 atom-3 atom-4\" d=\"M 570.701,265.055 L 570.645,335.029\" style=\"fill:none;fill-rule:evenodd;stroke:#000000;stroke-width:2.0px;stroke-linecap:butt;stroke-linejoin:miter;stroke-opacity:1\"/>\n<path class=\"bond-4 atom-4 atom-5\" d=\"M 570.645,335.029 L 510.02,369.973\" style=\"fill:none;fill-rule:evenodd;stroke:#000000;stroke-width:2.0px;stroke-linecap:butt;stroke-linejoin:miter;stroke-opacity:1\"/>\n<path class=\"bond-4 atom-4 atom-5\" d=\"M 555.261,329.358 L 512.824,353.819\" style=\"fill:none;fill-rule:evenodd;stroke:#000000;stroke-width:2.0px;stroke-linecap:butt;stroke-linejoin:miter;stroke-opacity:1\"/>\n<path class=\"bond-0 atom-0 atom-1\" d=\"M 110.132,430.027 L 49.5074,464.971\" style=\"fill:none;fill-rule:evenodd;stroke:#000000;stroke-width:2.0px;stroke-linecap:butt;stroke-linejoin:miter;stroke-opacity:1\"/>\n<path class=\"bond-0 atom-0 atom-1\" d=\"M 107.328,446.181 L 64.891,470.642\" style=\"fill:none;fill-rule:evenodd;stroke:#000000;stroke-width:2.0px;stroke-linecap:butt;stroke-linejoin:miter;stroke-opacity:1\"/>\n<path class=\"bond-5 atom-5 atom-0\" d=\"M 170.701,465.055 L 110.132,430.027\" style=\"fill:none;fill-rule:evenodd;stroke:#000000;stroke-width:2.0px;stroke-linecap:butt;stroke-linejoin:miter;stroke-opacity:1\"/>\n<path class=\"bond-1 atom-1 atom-2\" d=\"M 49.5074,464.971 L 49.481,498.021\" style=\"fill:none;fill-rule:evenodd;stroke:#000000;stroke-width:2.0px;stroke-linecap:butt;stroke-linejoin:miter;stroke-opacity:1\"/>\n<path class=\"bond-1 atom-1 atom-2\" d=\"M 49.481,498.021 L 49.4545,531.071\" style=\"fill:none;fill-rule:evenodd;stroke:#0000FF;stroke-width:2.0px;stroke-linecap:butt;stroke-linejoin:miter;stroke-opacity:1\"/>\n<path class=\"bond-2 atom-2 atom-3\" d=\"M 52.8116,536.888 L 81.4159,553.431\" style=\"fill:none;fill-rule:evenodd;stroke:#0000FF;stroke-width:2.0px;stroke-linecap:butt;stroke-linejoin:miter;stroke-opacity:1\"/>\n<path class=\"bond-2 atom-2 atom-3\" d=\"M 81.4159,553.431 L 110.02,569.973\" style=\"fill:none;fill-rule:evenodd;stroke:#000000;stroke-width:2.0px;stroke-linecap:butt;stroke-linejoin:miter;stroke-opacity:1\"/>\n<path class=\"bond-2 atom-2 atom-3\" d=\"M 67.6985,530.948 L 87.7215,542.527\" style=\"fill:none;fill-rule:evenodd;stroke:#0000FF;stroke-width:2.0px;stroke-linecap:butt;stroke-linejoin:miter;stroke-opacity:1\"/>\n<path class=\"bond-2 atom-2 atom-3\" d=\"M 87.7215,542.527 L 107.744,554.107\" style=\"fill:none;fill-rule:evenodd;stroke:#000000;stroke-width:2.0px;stroke-linecap:butt;stroke-linejoin:miter;stroke-opacity:1\"/>\n<path class=\"bond-3 atom-3 atom-4\" d=\"M 110.02,569.973 L 170.645,535.029\" style=\"fill:none;fill-rule:evenodd;stroke:#000000;stroke-width:2.0px;stroke-linecap:butt;stroke-linejoin:miter;stroke-opacity:1\"/>\n<path class=\"bond-4 atom-4 atom-5\" d=\"M 170.645,535.029 L 170.701,465.055\" style=\"fill:none;fill-rule:evenodd;stroke:#000000;stroke-width:2.0px;stroke-linecap:butt;stroke-linejoin:miter;stroke-opacity:1\"/>\n<path class=\"bond-4 atom-4 atom-5\" d=\"M 158.058,524.523 L 158.097,475.541\" style=\"fill:none;fill-rule:evenodd;stroke:#000000;stroke-width:2.0px;stroke-linecap:butt;stroke-linejoin:miter;stroke-opacity:1\"/>\n<path class=\"atom-2\" d=\"M 48.5124 532.821 L 49.9044 535.071 Q 50.0424 535.293, 50.2644 535.695 Q 50.4864 536.097, 50.4984 536.121 L 50.4984 532.821 L 51.0624 532.821 L 51.0624 537.069 L 50.4804 537.069 L 48.9864 534.609 Q 48.8124 534.321, 48.6264 533.991 Q 48.4464 533.661, 48.3924 533.559 L 48.3924 537.069 L 47.8404 537.069 L 47.8404 532.821 L 48.5124 532.821 \" fill=\"#0000FF\"/>\n</svg>"
          },
          "metadata": {},
          "execution_count": 22
        }
      ]
    },
    {
      "cell_type": "markdown",
      "metadata": {
        "id": "GkC3dpcPO6My"
      },
      "source": [
        "Ahora es tu turno. En la siguiente linea de cóodigo crea una lista con las cadenas SMILES de las moléculas creadas en la actividad 2 y presenta todas las estructuras en un sólo gráfico."
      ]
    },
    {
      "cell_type": "code",
      "metadata": {
        "id": "9WT7AuXdO53K"
      },
      "source": [
        ""
      ],
      "execution_count": null,
      "outputs": []
    },
    {
      "cell_type": "markdown",
      "metadata": {
        "id": "1sxTwYssPS9J"
      },
      "source": [
        "#**Actividad 4**\n",
        "\n",
        "Finalmente podemos hacer uso de las bases de datos existentes para importar la estructura de diferentes tipos de moléculas. En la siguiente celda de código importaremos la de la mofrfina desde la base de datos <a href=\"https://go.drugbank.com/\">DrugBank</a>. Para esta actividad:\n",
        "\n",
        "1.   Abre en una nueva ventana el siguiente link: <a href=\"https://go.drugbank.com/\">DrugBank</a>\n",
        "2.   Escribe \"Morphine\" en el buscador de estructuras.\n",
        "3.   Una vez localizada la molécula, en el link \"Download\" puedes decargar la estructura de molécula en varios formatos. Elige el formato SIMLES y tendrás la cadena de esta estructura."
      ]
    },
    {
      "cell_type": "code",
      "metadata": {
        "colab": {
          "base_uri": "https://localhost:8080/",
          "height": 171
        },
        "id": "mik_o8GBQcXl",
        "outputId": "64c59cbc-995e-471d-e14e-33dabd6d26cb"
      },
      "source": [
        "etino = Chem.MolFromSmiles(\"[H][C@@]12OC3=C(O)C=CC4=C3[C@@]11CCN(C)[C@]([H])(C4)[C@]1([H])C=C[C@@H]2O\")\n",
        "etino"
      ],
      "execution_count": null,
      "outputs": [
        {
          "output_type": "execute_result",
          "data": {
            "image/png": "[encoded data removed]",
            "text/plain": [
              "<rdkit.Chem.rdchem.Mol at 0x7f46044c14e0>"
            ],
            "image/svg+xml": "<?xml version='1.0' encoding='iso-8859-1'?>\n<svg version='1.1' baseProfile='full'\n              xmlns='http://www.w3.org/2000/svg'\n                      xmlns:rdkit='http://www.rdkit.org/xml'\n                      xmlns:xlink='http://www.w3.org/1999/xlink'\n                  xml:space='preserve'\nwidth='450px' height='150px' viewBox='0 0 450 150'>\n<!-- END OF HEADER -->\n<rect style='opacity:1.0;fill:#FFFFFF;stroke:none' width='450' height='150' x='0' y='0'> </rect>\n<path class='bond-0 atom-0 atom-1' d='M 237.677,64.991 L 233.154,56.1816' style='fill:none;fill-rule:evenodd;stroke:#000000;stroke-width:2.0px;stroke-linecap:butt;stroke-linejoin:miter;stroke-opacity:1' />\n<path class='bond-0 atom-0 atom-1' d='M 233.154,56.1816 L 228.63,47.3723' style='fill:none;fill-rule:evenodd;stroke:#FF0000;stroke-width:2.0px;stroke-linecap:butt;stroke-linejoin:miter;stroke-opacity:1' />\n<path class='bond-20 atom-9 atom-0' d='M 218.783,75.761 L 237.677,64.991' style='fill:none;fill-rule:evenodd;stroke:#000000;stroke-width:2.0px;stroke-linecap:butt;stroke-linejoin:miter;stroke-opacity:1' />\n<path class='bond-22 atom-19 atom-0' d='M 256.173,75.7268 L 237.677,64.991' style='fill:none;fill-rule:evenodd;stroke:#000000;stroke-width:2.0px;stroke-linecap:butt;stroke-linejoin:miter;stroke-opacity:1' />\n<path class='bond-25 atom-0 atom-21' d='M 242.212,62.153 L 240.738,60.604' style='fill:none;fill-rule:evenodd;stroke:#000000;stroke-width:1.0px;stroke-linecap:butt;stroke-linejoin:miter;stroke-opacity:1' />\n<path class='bond-25 atom-0 atom-21' d='M 246.747,59.3149 L 243.8,56.2169' style='fill:none;fill-rule:evenodd;stroke:#000000;stroke-width:1.0px;stroke-linecap:butt;stroke-linejoin:miter;stroke-opacity:1' />\n<path class='bond-25 atom-0 atom-21' d='M 251.281,56.4769 L 246.862,51.8299' style='fill:none;fill-rule:evenodd;stroke:#000000;stroke-width:1.0px;stroke-linecap:butt;stroke-linejoin:miter;stroke-opacity:1' />\n<path class='bond-1 atom-1 atom-2' d='M 221.06,42.2852 L 210.695,42.9151' style='fill:none;fill-rule:evenodd;stroke:#FF0000;stroke-width:2.0px;stroke-linecap:butt;stroke-linejoin:miter;stroke-opacity:1' />\n<path class='bond-1 atom-1 atom-2' d='M 210.695,42.9151 L 200.33,43.545' style='fill:none;fill-rule:evenodd;stroke:#000000;stroke-width:2.0px;stroke-linecap:butt;stroke-linejoin:miter;stroke-opacity:1' />\n<path class='bond-2 atom-2 atom-3' d='M 200.33,43.545 L 181.526,32.8091' style='fill:none;fill-rule:evenodd;stroke:#000000;stroke-width:2.0px;stroke-linecap:butt;stroke-linejoin:miter;stroke-opacity:1' />\n<path class='bond-2 atom-2 atom-3' d='M 195.602,45.2763 L 182.439,37.7612' style='fill:none;fill-rule:evenodd;stroke:#000000;stroke-width:2.0px;stroke-linecap:butt;stroke-linejoin:miter;stroke-opacity:1' />\n<path class='bond-23 atom-8 atom-2' d='M 200.219,65.1321 L 200.33,43.545' style='fill:none;fill-rule:evenodd;stroke:#000000;stroke-width:2.0px;stroke-linecap:butt;stroke-linejoin:miter;stroke-opacity:1' />\n<path class='bond-3 atom-3 atom-4' d='M 181.526,32.8091 L 181.481,24.7436' style='fill:none;fill-rule:evenodd;stroke:#000000;stroke-width:2.0px;stroke-linecap:butt;stroke-linejoin:miter;stroke-opacity:1' />\n<path class='bond-3 atom-3 atom-4' d='M 181.481,24.7436 L 181.436,16.6781' style='fill:none;fill-rule:evenodd;stroke:#FF0000;stroke-width:2.0px;stroke-linecap:butt;stroke-linejoin:miter;stroke-opacity:1' />\n<path class='bond-4 atom-3 atom-5' d='M 181.526,32.8091 L 162.872,43.7331' style='fill:none;fill-rule:evenodd;stroke:#000000;stroke-width:2.0px;stroke-linecap:butt;stroke-linejoin:miter;stroke-opacity:1' />\n<path class='bond-5 atom-5 atom-6' d='M 162.872,43.7331 L 162.971,65.115' style='fill:none;fill-rule:evenodd;stroke:#000000;stroke-width:2.0px;stroke-linecap:butt;stroke-linejoin:miter;stroke-opacity:1' />\n<path class='bond-5 atom-5 atom-6' d='M 166.735,46.9227 L 166.804,61.89' style='fill:none;fill-rule:evenodd;stroke:#000000;stroke-width:2.0px;stroke-linecap:butt;stroke-linejoin:miter;stroke-opacity:1' />\n<path class='bond-6 atom-6 atom-7' d='M 162.971,65.115 L 181.505,75.7867' style='fill:none;fill-rule:evenodd;stroke:#000000;stroke-width:2.0px;stroke-linecap:butt;stroke-linejoin:miter;stroke-opacity:1' />\n<path class='bond-7 atom-7 atom-8' d='M 181.505,75.7867 L 200.219,65.1321' style='fill:none;fill-rule:evenodd;stroke:#000000;stroke-width:2.0px;stroke-linecap:butt;stroke-linejoin:miter;stroke-opacity:1' />\n<path class='bond-7 atom-7 atom-8' d='M 182.408,70.8445 L 195.508,63.3863' style='fill:none;fill-rule:evenodd;stroke:#000000;stroke-width:2.0px;stroke-linecap:butt;stroke-linejoin:miter;stroke-opacity:1' />\n<path class='bond-24 atom-15 atom-7' d='M 181.633,97.5833 L 181.505,75.7867' style='fill:none;fill-rule:evenodd;stroke:#000000;stroke-width:2.0px;stroke-linecap:butt;stroke-linejoin:miter;stroke-opacity:1' />\n<path class='bond-8 atom-8 atom-9' d='M 200.219,65.1321 L 218.783,75.761' style='fill:none;fill-rule:evenodd;stroke:#000000;stroke-width:2.0px;stroke-linecap:butt;stroke-linejoin:miter;stroke-opacity:1' />\n<path class='bond-9 atom-9 atom-10' d='M 223.946,79.0722 L 224.628,77.6211' style='fill:none;fill-rule:evenodd;stroke:#000000;stroke-width:1.0px;stroke-linecap:butt;stroke-linejoin:miter;stroke-opacity:1' />\n<path class='bond-9 atom-9 atom-10' d='M 229.109,82.3834 L 230.472,79.4811' style='fill:none;fill-rule:evenodd;stroke:#000000;stroke-width:1.0px;stroke-linecap:butt;stroke-linejoin:miter;stroke-opacity:1' />\n<path class='bond-9 atom-9 atom-10' d='M 234.272,85.6947 L 236.317,81.3412' style='fill:none;fill-rule:evenodd;stroke:#000000;stroke-width:1.0px;stroke-linecap:butt;stroke-linejoin:miter;stroke-opacity:1' />\n<path class='bond-9 atom-9 atom-10' d='M 239.435,89.0059 L 242.162,83.2012' style='fill:none;fill-rule:evenodd;stroke:#000000;stroke-width:1.0px;stroke-linecap:butt;stroke-linejoin:miter;stroke-opacity:1' />\n<path class='bond-21 atom-16 atom-9' d='M 218.715,97.1729 L 218.783,75.761' style='fill:none;fill-rule:evenodd;stroke:#000000;stroke-width:2.0px;stroke-linecap:butt;stroke-linejoin:miter;stroke-opacity:1' />\n<path class='bond-10 atom-10 atom-11' d='M 240.798,86.1035 L 241.435,110.188' style='fill:none;fill-rule:evenodd;stroke:#000000;stroke-width:2.0px;stroke-linecap:butt;stroke-linejoin:miter;stroke-opacity:1' />\n<path class='bond-11 atom-11 atom-12' d='M 241.435,110.188 L 232.921,114.881' style='fill:none;fill-rule:evenodd;stroke:#000000;stroke-width:2.0px;stroke-linecap:butt;stroke-linejoin:miter;stroke-opacity:1' />\n<path class='bond-11 atom-11 atom-12' d='M 232.921,114.881 L 224.407,119.574' style='fill:none;fill-rule:evenodd;stroke:#0000FF;stroke-width:2.0px;stroke-linecap:butt;stroke-linejoin:miter;stroke-opacity:1' />\n<path class='bond-12 atom-12 atom-13' d='M 220.136,126.88 L 219.774,135.031' style='fill:none;fill-rule:evenodd;stroke:#0000FF;stroke-width:2.0px;stroke-linecap:butt;stroke-linejoin:miter;stroke-opacity:1' />\n<path class='bond-12 atom-12 atom-13' d='M 219.774,135.031 L 219.412,143.182' style='fill:none;fill-rule:evenodd;stroke:#000000;stroke-width:2.0px;stroke-linecap:butt;stroke-linejoin:miter;stroke-opacity:1' />\n<path class='bond-13 atom-12 atom-14' d='M 216.309,119.063 L 208.26,113.619' style='fill:none;fill-rule:evenodd;stroke:#0000FF;stroke-width:2.0px;stroke-linecap:butt;stroke-linejoin:miter;stroke-opacity:1' />\n<path class='bond-13 atom-12 atom-14' d='M 208.26,113.619 L 200.21,108.174' style='fill:none;fill-rule:evenodd;stroke:#000000;stroke-width:2.0px;stroke-linecap:butt;stroke-linejoin:miter;stroke-opacity:1' />\n<path class='bond-14 atom-14 atom-15' d='M 200.21,108.174 L 181.633,97.5833' style='fill:none;fill-rule:evenodd;stroke:#000000;stroke-width:2.0px;stroke-linecap:butt;stroke-linejoin:miter;stroke-opacity:1' />\n<path class='bond-15 atom-14 atom-16' d='M 200.21,108.174 L 218.715,97.1729' style='fill:none;fill-rule:evenodd;stroke:#000000;stroke-width:2.0px;stroke-linecap:butt;stroke-linejoin:miter;stroke-opacity:1' />\n<path class='bond-26 atom-14 atom-22' d='M 200.21,108.174 L 189.34,119.566 L 194.784,122.956 Z' style='fill:#000000;fill-rule:evenodd;fill-opacity:1;stroke:#000000;stroke-width:2.0px;stroke-linecap:butt;stroke-linejoin:miter;stroke-opacity:1;' />\n<path class='bond-16 atom-16 atom-17' d='M 218.715,97.1729 L 237.395,107.994' style='fill:none;fill-rule:evenodd;stroke:#000000;stroke-width:2.0px;stroke-linecap:butt;stroke-linejoin:miter;stroke-opacity:1' />\n<path class='bond-27 atom-16 atom-23' d='M 214.419,93.4895 L 213.359,95.346' style='fill:none;fill-rule:evenodd;stroke:#000000;stroke-width:1.0px;stroke-linecap:butt;stroke-linejoin:miter;stroke-opacity:1' />\n<path class='bond-27 atom-16 atom-23' d='M 210.124,89.8061 L 208.004,93.5191' style='fill:none;fill-rule:evenodd;stroke:#000000;stroke-width:1.0px;stroke-linecap:butt;stroke-linejoin:miter;stroke-opacity:1' />\n<path class='bond-27 atom-16 atom-23' d='M 205.828,86.1227 L 202.648,91.6922' style='fill:none;fill-rule:evenodd;stroke:#000000;stroke-width:1.0px;stroke-linecap:butt;stroke-linejoin:miter;stroke-opacity:1' />\n<path class='bond-17 atom-17 atom-18' d='M 237.395,107.994 L 256.015,97.3696' style='fill:none;fill-rule:evenodd;stroke:#000000;stroke-width:2.0px;stroke-linecap:butt;stroke-linejoin:miter;stroke-opacity:1' />\n<path class='bond-17 atom-17 atom-18' d='M 238.281,103.058 L 251.315,95.6211' style='fill:none;fill-rule:evenodd;stroke:#000000;stroke-width:2.0px;stroke-linecap:butt;stroke-linejoin:miter;stroke-opacity:1' />\n<path class='bond-18 atom-18 atom-19' d='M 256.015,97.3696 L 256.173,75.7268' style='fill:none;fill-rule:evenodd;stroke:#000000;stroke-width:2.0px;stroke-linecap:butt;stroke-linejoin:miter;stroke-opacity:1' />\n<path class='bond-19 atom-19 atom-20' d='M 256.173,75.7268 L 263.91,73.1628 L 262.322,70.3768 Z' style='fill:#000000;fill-rule:evenodd;fill-opacity:1;stroke:#000000;stroke-width:2.0px;stroke-linecap:butt;stroke-linejoin:miter;stroke-opacity:1;' />\n<path class='bond-19 atom-19 atom-20' d='M 263.91,73.1628 L 268.472,65.0268 L 271.647,70.5987 Z' style='fill:#FF0000;fill-rule:evenodd;fill-opacity:1;stroke:#FF0000;stroke-width:2.0px;stroke-linecap:butt;stroke-linejoin:miter;stroke-opacity:1;' />\n<path class='bond-19 atom-19 atom-20' d='M 263.91,73.1628 L 262.322,70.3768 L 268.472,65.0268 Z' style='fill:#FF0000;fill-rule:evenodd;fill-opacity:1;stroke:#FF0000;stroke-width:2.0px;stroke-linecap:butt;stroke-linejoin:miter;stroke-opacity:1;' />\n<path  class='atom-1' d='M 221.699 42.0186\nQ 221.699 39.8381, 222.777 38.6195\nQ 223.854 37.401, 225.868 37.401\nQ 227.882 37.401, 228.959 38.6195\nQ 230.037 39.8381, 230.037 42.0186\nQ 230.037 44.2248, 228.946 45.4818\nQ 227.856 46.7259, 225.868 46.7259\nQ 223.867 46.7259, 222.777 45.4818\nQ 221.699 44.2376, 221.699 42.0186\nM 225.868 45.6998\nQ 227.253 45.6998, 227.997 44.7763\nQ 228.754 43.84, 228.754 42.0186\nQ 228.754 40.2357, 227.997 39.3378\nQ 227.253 38.4271, 225.868 38.4271\nQ 224.483 38.4271, 223.726 39.325\nQ 222.982 40.2229, 222.982 42.0186\nQ 222.982 43.8528, 223.726 44.7763\nQ 224.483 45.6998, 225.868 45.6998\n' fill='#FF0000'/>\n<path  class='atom-4' d='M 177.238 11.4358\nQ 177.238 9.25523, 178.316 8.03671\nQ 179.393 6.81818, 181.407 6.81818\nQ 183.421 6.81818, 184.498 8.03671\nQ 185.575 9.25523, 185.575 11.4358\nQ 185.575 13.6419, 184.485 14.8989\nQ 183.395 16.1431, 181.407 16.1431\nQ 179.406 16.1431, 178.316 14.8989\nQ 177.238 13.6547, 177.238 11.4358\nM 181.407 15.117\nQ 182.792 15.117, 183.536 14.1935\nQ 184.293 13.2571, 184.293 11.4358\nQ 184.293 9.65286, 183.536 8.755\nQ 182.792 7.84431, 181.407 7.84431\nQ 180.021 7.84431, 179.265 8.74217\nQ 178.521 9.64003, 178.521 11.4358\nQ 178.521 13.27, 179.265 14.1935\nQ 180.021 15.117, 181.407 15.117\n' fill='#FF0000'/>\n<path  class='atom-4' d='M 186.666 6.92079\nL 187.897 6.92079\nL 187.897 10.7816\nL 192.54 10.7816\nL 192.54 6.92079\nL 193.772 6.92079\nL 193.772 16.002\nL 192.54 16.002\nL 192.54 11.8077\nL 187.897 11.8077\nL 187.897 16.002\nL 186.666 16.002\nL 186.666 6.92079\n' fill='#FF0000'/>\n<path  class='atom-12' d='M 218.354 117.264\nL 221.329 122.074\nQ 221.624 122.548, 222.099 123.408\nQ 222.574 124.267, 222.599 124.318\nL 222.599 117.264\nL 223.805 117.264\nL 223.805 126.345\nL 222.561 126.345\nL 219.367 121.086\nQ 218.995 120.47, 218.597 119.765\nQ 218.213 119.059, 218.097 118.841\nL 218.097 126.345\nL 216.917 126.345\nL 216.917 117.264\nL 218.354 117.264\n' fill='#0000FF'/>\n<path  class='atom-20' d='M 270.594 65.1577\nQ 270.594 62.9772, 271.672 61.7587\nQ 272.749 60.5402, 274.763 60.5402\nQ 276.777 60.5402, 277.854 61.7587\nQ 278.931 62.9772, 278.931 65.1577\nQ 278.931 67.3639, 277.841 68.6209\nQ 276.751 69.8651, 274.763 69.8651\nQ 272.762 69.8651, 271.672 68.6209\nQ 270.594 67.3767, 270.594 65.1577\nM 274.763 68.839\nQ 276.148 68.839, 276.892 67.9155\nQ 277.649 66.9791, 277.649 65.1577\nQ 277.649 63.3748, 276.892 62.477\nQ 276.148 61.5663, 274.763 61.5663\nQ 273.378 61.5663, 272.621 62.4642\nQ 271.877 63.362, 271.877 65.1577\nQ 271.877 66.9919, 272.621 67.9155\nQ 273.378 68.839, 274.763 68.839\n' fill='#FF0000'/>\n<path  class='atom-20' d='M 280.022 60.6428\nL 281.253 60.6428\nL 281.253 64.5036\nL 285.896 64.5036\nL 285.896 60.6428\nL 287.128 60.6428\nL 287.128 69.724\nL 285.896 69.724\nL 285.896 65.5297\nL 281.253 65.5297\nL 281.253 69.724\nL 280.022 69.724\nL 280.022 60.6428\n' fill='#FF0000'/>\n<path  class='atom-21' d='M 249.606 45.7255\nL 250.837 45.7255\nL 250.837 49.5863\nL 255.48 49.5863\nL 255.48 45.7255\nL 256.712 45.7255\nL 256.712 54.8067\nL 255.48 54.8067\nL 255.48 50.6124\nL 250.837 50.6124\nL 250.837 54.8067\nL 249.606 54.8067\nL 249.606 45.7255\n' fill='#000000'/>\n<path  class='atom-22' d='M 185.349 121.796\nL 186.58 121.796\nL 186.58 125.656\nL 191.223 125.656\nL 191.223 121.796\nL 192.455 121.796\nL 192.455 130.877\nL 191.223 130.877\nL 191.223 126.683\nL 186.58 126.683\nL 186.58 130.877\nL 185.349 130.877\nL 185.349 121.796\n' fill='#000000'/>\n<path  class='atom-23' d='M 196.598 82.0332\nL 197.829 82.0332\nL 197.829 85.894\nL 202.472 85.894\nL 202.472 82.0332\nL 203.704 82.0332\nL 203.704 91.1145\nL 202.472 91.1145\nL 202.472 86.9202\nL 197.829 86.9202\nL 197.829 91.1145\nL 196.598 91.1145\nL 196.598 82.0332\n' fill='#000000'/>\n</svg>\n"
          },
          "metadata": {},
          "execution_count": 11
        }
      ]
    },
    {
      "cell_type": "markdown",
      "metadata": {
        "id": "kHWrD3BrVtLl"
      },
      "source": [
        "También podemos importar directamente la información estructural desde la base de datos utilizando el formato `*.mol`. Para esta actividad:\n",
        "\n",
        "1.   Abre en una nueva ventana el siguiente link: <a href=\"https://go.drugbank.com/\">DrugBank</a>\n",
        "2.   Escribe \"Morphine\" en el buscador de estructuras.\n",
        "3.   Una vez localizada la molécula, en el link \"Download\" puedes decargar la estructura de molécula en varios formatos. Ahora elige el formato `mol`.\n",
        "3.   Copia la dirección url donde esta contenida la información en formato `mol`.\n",
        "4.   En la siguiente celda de código, pega la dirección url dentro de las comillas `\"\"` donde se indica el comentario.\n",
        "5.   Ejecuta la rutina.\n"
      ]
    },
    {
      "cell_type": "code",
      "metadata": {
        "colab": {
          "base_uri": "https://localhost:8080/",
          "height": 171
        },
        "id": "1Alz9XFUPZGa",
        "outputId": "f53c635b-145f-4cbe-f44f-5c914bde5db3"
      },
      "source": [
        "morfina_url=\"https://go.drugbank.com/structures/small_molecule_drugs/DB00295.mol\"      # Pega dentro de las comillas la dirección url\n",
        "morfina_mol=requests.get(morfina_url).text\n",
        "morfina=Chem.MolFromMolBlock(morfina_mol)\n",
        "morfina"
      ],
      "execution_count": null,
      "outputs": [
        {
          "output_type": "execute_result",
          "data": {
            "image/png": "[encoded data removed]",
            "text/plain": [
              "<rdkit.Chem.rdchem.Mol at 0x7f622d686990>"
            ],
            "image/svg+xml": "<?xml version='1.0' encoding='iso-8859-1'?>\n<svg version='1.1' baseProfile='full'\n              xmlns='http://www.w3.org/2000/svg'\n                      xmlns:rdkit='http://www.rdkit.org/xml'\n                      xmlns:xlink='http://www.w3.org/1999/xlink'\n                  xml:space='preserve'\nwidth='450px' height='150px' viewBox='0 0 450 150'>\n<!-- END OF HEADER -->\n<rect style='opacity:1.0;fill:#FFFFFF;stroke:none' width='450' height='150' x='0' y='0'> </rect>\n<path class='bond-0 atom-0 atom-7' d='M 180.59,79.23 L 186.945,89.2839' style='fill:none;fill-rule:evenodd;stroke:#FF0000;stroke-width:2.0px;stroke-linecap:butt;stroke-linejoin:miter;stroke-opacity:1' />\n<path class='bond-0 atom-0 atom-7' d='M 186.945,89.2839 L 193.3,99.3377' style='fill:none;fill-rule:evenodd;stroke:#000000;stroke-width:2.0px;stroke-linecap:butt;stroke-linejoin:miter;stroke-opacity:1' />\n<path class='bond-1 atom-0 atom-15' d='M 180.867,68.0699 L 187.082,59.2683' style='fill:none;fill-rule:evenodd;stroke:#FF0000;stroke-width:2.0px;stroke-linecap:butt;stroke-linejoin:miter;stroke-opacity:1' />\n<path class='bond-1 atom-0 atom-15' d='M 187.082,59.2683 L 193.297,50.4667' style='fill:none;fill-rule:evenodd;stroke:#000000;stroke-width:2.0px;stroke-linecap:butt;stroke-linejoin:miter;stroke-opacity:1' />\n<path class='bond-2 atom-13 atom-1' d='M 186.8,125.821 L 188.281,128.386' style='fill:none;fill-rule:evenodd;stroke:#000000;stroke-width:1.0px;stroke-linecap:butt;stroke-linejoin:miter;stroke-opacity:1' />\n<path class='bond-2 atom-13 atom-1' d='M 180.3,127.862 L 183.262,132.993' style='fill:none;fill-rule:evenodd;stroke:#FF0000;stroke-width:1.0px;stroke-linecap:butt;stroke-linejoin:miter;stroke-opacity:1' />\n<path class='bond-2 atom-13 atom-1' d='M 173.801,129.904 L 178.243,137.6' style='fill:none;fill-rule:evenodd;stroke:#FF0000;stroke-width:1.0px;stroke-linecap:butt;stroke-linejoin:miter;stroke-opacity:1' />\n<path class='bond-3 atom-2 atom-19' d='M 176.022,16.0531 L 184.661,21.0407' style='fill:none;fill-rule:evenodd;stroke:#FF0000;stroke-width:2.0px;stroke-linecap:butt;stroke-linejoin:miter;stroke-opacity:1' />\n<path class='bond-3 atom-2 atom-19' d='M 184.661,21.0407 L 193.3,26.0283' style='fill:none;fill-rule:evenodd;stroke:#000000;stroke-width:2.0px;stroke-linecap:butt;stroke-linejoin:miter;stroke-opacity:1' />\n<path class='bond-4 atom-3 atom-6' d='M 273.764,96.9184 L 265.278,92.0184' style='fill:none;fill-rule:evenodd;stroke:#0000FF;stroke-width:2.0px;stroke-linecap:butt;stroke-linejoin:miter;stroke-opacity:1' />\n<path class='bond-4 atom-3 atom-6' d='M 265.278,92.0184 L 256.792,87.1185' style='fill:none;fill-rule:evenodd;stroke:#000000;stroke-width:2.0px;stroke-linecap:butt;stroke-linejoin:miter;stroke-opacity:1' />\n<path class='bond-5 atom-3 atom-11' d='M 275.26,93.7815 L 269.299,81.4907' style='fill:none;fill-rule:evenodd;stroke:#0000FF;stroke-width:2.0px;stroke-linecap:butt;stroke-linejoin:miter;stroke-opacity:1' />\n<path class='bond-5 atom-3 atom-11' d='M 269.299,81.4907 L 263.339,69.1999' style='fill:none;fill-rule:evenodd;stroke:#000000;stroke-width:2.0px;stroke-linecap:butt;stroke-linejoin:miter;stroke-opacity:1' />\n<path class='bond-6 atom-3 atom-17' d='M 282.176,103.873 L 288.82,111.01' style='fill:none;fill-rule:evenodd;stroke:#0000FF;stroke-width:2.0px;stroke-linecap:butt;stroke-linejoin:miter;stroke-opacity:1' />\n<path class='bond-6 atom-3 atom-17' d='M 288.82,111.01 L 295.464,118.148' style='fill:none;fill-rule:evenodd;stroke:#000000;stroke-width:2.0px;stroke-linecap:butt;stroke-linejoin:miter;stroke-opacity:1' />\n<path class='bond-7 atom-4 atom-5' d='M 214.465,87.1215 L 235.63,99.3377' style='fill:none;fill-rule:evenodd;stroke:#000000;stroke-width:2.0px;stroke-linecap:butt;stroke-linejoin:miter;stroke-opacity:1' />\n<path class='bond-8 atom-4 atom-7' d='M 214.465,87.1215 L 193.3,99.3377' style='fill:none;fill-rule:evenodd;stroke:#000000;stroke-width:2.0px;stroke-linecap:butt;stroke-linejoin:miter;stroke-opacity:1' />\n<path class='bond-9 atom-4 atom-8' d='M 214.465,87.1215 L 232.073,71.9528 L 225.093,66.453 Z' style='fill:#000000;fill-rule:evenodd;fill-opacity:1;stroke:#000000;stroke-width:2.0px;stroke-linecap:butt;stroke-linejoin:miter;stroke-opacity:1;' />\n<path class='bond-10 atom-4 atom-9' d='M 214.465,87.1215 L 214.465,62.686' style='fill:none;fill-rule:evenodd;stroke:#000000;stroke-width:2.0px;stroke-linecap:butt;stroke-linejoin:miter;stroke-opacity:1' />\n<path class='bond-11 atom-5 atom-6' d='M 235.63,99.3377 L 256.792,87.1185' style='fill:none;fill-rule:evenodd;stroke:#000000;stroke-width:2.0px;stroke-linecap:butt;stroke-linejoin:miter;stroke-opacity:1' />\n<path class='bond-12 atom-5 atom-14' d='M 235.63,99.3377 L 235.63,123.776' style='fill:none;fill-rule:evenodd;stroke:#000000;stroke-width:2.0px;stroke-linecap:butt;stroke-linejoin:miter;stroke-opacity:1' />\n<path class='bond-25 atom-5 atom-21' d='M 235.63,99.3377 L 240.071,75.1744 L 231.185,75.1751 Z' style='fill:#000000;fill-rule:evenodd;fill-opacity:1;stroke:#000000;stroke-width:2.0px;stroke-linecap:butt;stroke-linejoin:miter;stroke-opacity:1;' />\n<path class='bond-13 atom-6 atom-10' d='M 256.792,87.1185 L 256.795,62.6889' style='fill:none;fill-rule:evenodd;stroke:#000000;stroke-width:2.0px;stroke-linecap:butt;stroke-linejoin:miter;stroke-opacity:1' />\n<path class='bond-26 atom-6 atom-22' d='M 252.043,83.0934 L 250.932,85.0174' style='fill:none;fill-rule:evenodd;stroke:#000000;stroke-width:1.0px;stroke-linecap:butt;stroke-linejoin:miter;stroke-opacity:1' />\n<path class='bond-26 atom-6 atom-22' d='M 247.293,79.0682 L 245.071,82.9162' style='fill:none;fill-rule:evenodd;stroke:#000000;stroke-width:1.0px;stroke-linecap:butt;stroke-linejoin:miter;stroke-opacity:1' />\n<path class='bond-26 atom-6 atom-22' d='M 242.543,75.0431 L 239.211,80.8151' style='fill:none;fill-rule:evenodd;stroke:#000000;stroke-width:1.0px;stroke-linecap:butt;stroke-linejoin:miter;stroke-opacity:1' />\n<path class='bond-26 atom-6 atom-22' d='M 237.794,71.018 L 233.35,78.7139' style='fill:none;fill-rule:evenodd;stroke:#000000;stroke-width:1.0px;stroke-linecap:butt;stroke-linejoin:miter;stroke-opacity:1' />\n<path class='bond-14 atom-7 atom-13' d='M 193.3,99.3377 L 193.3,123.779' style='fill:none;fill-rule:evenodd;stroke:#000000;stroke-width:2.0px;stroke-linecap:butt;stroke-linejoin:miter;stroke-opacity:1' />\n<path class='bond-27 atom-7 atom-23' d='M 193.3,99.3377 L 168.043,102.025 L 170.515,110.561 Z' style='fill:#000000;fill-rule:evenodd;fill-opacity:1;stroke:#000000;stroke-width:2.0px;stroke-linecap:butt;stroke-linejoin:miter;stroke-opacity:1;' />\n<path class='bond-15 atom-8 atom-11' d='M 228.583,69.2029 L 263.339,69.1999' style='fill:none;fill-rule:evenodd;stroke:#000000;stroke-width:2.0px;stroke-linecap:butt;stroke-linejoin:miter;stroke-opacity:1' />\n<path class='bond-16 atom-9 atom-12' d='M 214.465,62.686 L 235.627,50.4667' style='fill:none;fill-rule:evenodd;stroke:#000000;stroke-width:2.0px;stroke-linecap:butt;stroke-linejoin:miter;stroke-opacity:1' />\n<path class='bond-16 atom-9 atom-12' d='M 214.973,56.2355 L 229.786,47.6821' style='fill:none;fill-rule:evenodd;stroke:#000000;stroke-width:2.0px;stroke-linecap:butt;stroke-linejoin:miter;stroke-opacity:1' />\n<path class='bond-17 atom-9 atom-15' d='M 214.465,62.686 L 193.297,50.4667' style='fill:none;fill-rule:evenodd;stroke:#000000;stroke-width:2.0px;stroke-linecap:butt;stroke-linejoin:miter;stroke-opacity:1' />\n<path class='bond-18 atom-10 atom-12' d='M 256.795,62.6889 L 235.627,50.4667' style='fill:none;fill-rule:evenodd;stroke:#000000;stroke-width:2.0px;stroke-linecap:butt;stroke-linejoin:miter;stroke-opacity:1' />\n<path class='bond-19 atom-12 atom-18' d='M 235.627,50.4667 L 235.63,26.0313' style='fill:none;fill-rule:evenodd;stroke:#000000;stroke-width:2.0px;stroke-linecap:butt;stroke-linejoin:miter;stroke-opacity:1' />\n<path class='bond-20 atom-13 atom-16' d='M 193.3,123.779 L 214.465,135.995' style='fill:none;fill-rule:evenodd;stroke:#000000;stroke-width:2.0px;stroke-linecap:butt;stroke-linejoin:miter;stroke-opacity:1' />\n<path class='bond-21 atom-14 atom-16' d='M 235.63,123.776 L 214.465,135.995' style='fill:none;fill-rule:evenodd;stroke:#000000;stroke-width:2.0px;stroke-linecap:butt;stroke-linejoin:miter;stroke-opacity:1' />\n<path class='bond-21 atom-14 atom-16' d='M 229.789,120.991 L 214.974,129.545' style='fill:none;fill-rule:evenodd;stroke:#000000;stroke-width:2.0px;stroke-linecap:butt;stroke-linejoin:miter;stroke-opacity:1' />\n<path class='bond-22 atom-15 atom-19' d='M 193.297,50.4667 L 193.3,26.0283' style='fill:none;fill-rule:evenodd;stroke:#000000;stroke-width:2.0px;stroke-linecap:butt;stroke-linejoin:miter;stroke-opacity:1' />\n<path class='bond-22 atom-15 atom-19' d='M 198.629,46.8016 L 198.631,29.6947' style='fill:none;fill-rule:evenodd;stroke:#000000;stroke-width:2.0px;stroke-linecap:butt;stroke-linejoin:miter;stroke-opacity:1' />\n<path class='bond-23 atom-18 atom-20' d='M 235.63,26.0313 L 214.462,13.815' style='fill:none;fill-rule:evenodd;stroke:#000000;stroke-width:2.0px;stroke-linecap:butt;stroke-linejoin:miter;stroke-opacity:1' />\n<path class='bond-23 atom-18 atom-20' d='M 229.79,28.817 L 214.972,20.2656' style='fill:none;fill-rule:evenodd;stroke:#000000;stroke-width:2.0px;stroke-linecap:butt;stroke-linejoin:miter;stroke-opacity:1' />\n<path class='bond-24 atom-19 atom-20' d='M 193.3,26.0283 L 214.462,13.815' style='fill:none;fill-rule:evenodd;stroke:#000000;stroke-width:2.0px;stroke-linecap:butt;stroke-linejoin:miter;stroke-opacity:1' />\n<path  class='atom-0' d='M 172.666 73.5752\nQ 172.666 71.3091, 173.786 70.0427\nQ 174.906 68.7763, 176.998 68.7763\nQ 179.091 68.7763, 180.211 70.0427\nQ 181.331 71.3091, 181.331 73.5752\nQ 181.331 75.8679, 180.198 77.1743\nQ 179.065 78.4673, 176.998 78.4673\nQ 174.919 78.4673, 173.786 77.1743\nQ 172.666 75.8813, 172.666 73.5752\nM 176.998 77.4009\nQ 178.438 77.4009, 179.211 76.4411\nQ 179.998 75.468, 179.998 73.5752\nQ 179.998 71.7223, 179.211 70.7892\nQ 178.438 69.8427, 176.998 69.8427\nQ 175.559 69.8427, 174.772 70.7758\nQ 173.999 71.709, 173.999 73.5752\nQ 173.999 75.4814, 174.772 76.4411\nQ 175.559 77.4009, 176.998 77.4009\n' fill='#FF0000'/>\n<path  class='atom-1' d='M 158.664 131.958\nL 159.943 131.958\nL 159.943 135.97\nL 164.769 135.97\nL 164.769 131.958\nL 166.049 131.958\nL 166.049 141.396\nL 164.769 141.396\nL 164.769 137.037\nL 159.943 137.037\nL 159.943 141.396\nL 158.664 141.396\nL 158.664 131.958\n' fill='#FF0000'/>\n<path  class='atom-1' d='M 166.715 136.65\nQ 166.715 134.384, 167.835 133.118\nQ 168.954 131.851, 171.047 131.851\nQ 173.14 131.851, 174.26 133.118\nQ 175.38 134.384, 175.38 136.65\nQ 175.38 138.943, 174.247 140.249\nQ 173.113 141.542, 171.047 141.542\nQ 168.968 141.542, 167.835 140.249\nQ 166.715 138.956, 166.715 136.65\nM 171.047 140.476\nQ 172.487 140.476, 173.26 139.516\nQ 174.047 138.543, 174.047 136.65\nQ 174.047 134.797, 173.26 133.864\nQ 172.487 132.918, 171.047 132.918\nQ 169.608 132.918, 168.821 133.851\nQ 168.048 134.784, 168.048 136.65\nQ 168.048 138.556, 168.821 139.516\nQ 169.608 140.476, 171.047 140.476\n' fill='#FF0000'/>\n<path  class='atom-2' d='M 158.664 8.51554\nL 159.943 8.51554\nL 159.943 12.5279\nL 164.769 12.5279\nL 164.769 8.51554\nL 166.049 8.51554\nL 166.049 17.9532\nL 164.769 17.9532\nL 164.769 13.5943\nL 159.943 13.5943\nL 159.943 17.9532\nL 158.664 17.9532\nL 158.664 8.51554\n' fill='#FF0000'/>\n<path  class='atom-2' d='M 166.715 13.2077\nQ 166.715 10.9416, 167.835 9.67526\nQ 168.954 8.4089, 171.047 8.4089\nQ 173.14 8.4089, 174.26 9.67526\nQ 175.38 10.9416, 175.38 13.2077\nQ 175.38 15.5005, 174.247 16.8068\nQ 173.113 18.0999, 171.047 18.0999\nQ 168.968 18.0999, 167.835 16.8068\nQ 166.715 15.5138, 166.715 13.2077\nM 171.047 17.0335\nQ 172.487 17.0335, 173.26 16.0737\nQ 174.047 15.1006, 174.047 13.2077\nQ 174.047 11.3548, 173.26 10.4217\nQ 172.487 9.47531, 171.047 9.47531\nQ 169.608 9.47531, 168.821 10.4084\nQ 168.048 11.3415, 168.048 13.2077\nQ 168.048 15.1139, 168.821 16.0737\nQ 169.608 17.0335, 171.047 17.0335\n' fill='#FF0000'/>\n<path  class='atom-3' d='M 275.868 94.6189\nL 278.961 99.6177\nQ 279.267 100.111, 279.761 101.004\nQ 280.254 101.897, 280.281 101.95\nL 280.281 94.6189\nL 281.534 94.6189\nL 281.534 104.057\nL 280.241 104.057\nL 276.921 98.5913\nQ 276.535 97.9514, 276.122 97.2183\nQ 275.722 96.4851, 275.602 96.2585\nL 275.602 104.057\nL 274.375 104.057\nL 274.375 94.6189\nL 275.868 94.6189\n' fill='#0000FF'/>\n<path  class='atom-21' d='M 231.935 64.9965\nL 233.215 64.9965\nL 233.215 69.0089\nL 238.04 69.0089\nL 238.04 64.9965\nL 239.32 64.9965\nL 239.32 74.4342\nL 238.04 74.4342\nL 238.04 70.0753\nL 233.215 70.0753\nL 233.215 74.4342\nL 231.935 74.4342\nL 231.935 64.9965\n' fill='#000000'/>\n<path  class='atom-22' d='M 227.447 67.5875\nL 228.726 67.5875\nL 228.726 71.5998\nL 233.552 71.5998\nL 233.552 67.5875\nL 234.831 67.5875\nL 234.831 77.0252\nL 233.552 77.0252\nL 233.552 72.6662\nL 228.726 72.6662\nL 228.726 77.0252\nL 227.447 77.0252\nL 227.447 67.5875\n' fill='#000000'/>\n<path  class='atom-23' d='M 161.154 102.858\nL 162.433 102.858\nL 162.433 106.87\nL 167.259 106.87\nL 167.259 102.858\nL 168.538 102.858\nL 168.538 112.295\nL 167.259 112.295\nL 167.259 107.936\nL 162.433 107.936\nL 162.433 112.295\nL 161.154 112.295\nL 161.154 102.858\n' fill='#000000'/>\n</svg>\n"
          },
          "metadata": {},
          "execution_count": 24
        }
      ]
    },
    {
      "cell_type": "markdown",
      "metadata": {
        "id": "kIqHhlYWXMS7"
      },
      "source": [
        "Ahora es tu turno. utilizando la información sobre importación de inoformación desde una base de datos, en la siguiente línea de código crea la rutina para representar la estrucura de las siguientes moléculas: (i) Dopamina, (ii) Tramadol y  (iii) Metoprolol. Puedes utilizaar la base de datos <a href=\"https://go.drugbank.com/\">DrugBank</a> para obtener la información SMILES de las moléculas"
      ]
    },
    {
      "cell_type": "code",
      "metadata": {
        "id": "-lGTcHqKXgKR"
      },
      "source": [
        ""
      ],
      "execution_count": null,
      "outputs": []
    },
    {
      "cell_type": "markdown",
      "metadata": {
        "id": "FeJS_X2QOGGj"
      },
      "source": [
        "Cómo última actividad, en la siguiente celda de código crea una lista con todas las moléculas creadas en todas las actividades y  presentalas en un sólo gráfico."
      ]
    },
    {
      "cell_type": "code",
      "metadata": {
        "id": "8iHMv2_nOHTq"
      },
      "source": [
        ""
      ],
      "execution_count": null,
      "outputs": []
    },
    {
      "cell_type": "markdown",
      "metadata": {
        "id": "xvoH8J-ZeZhc"
      },
      "source": [
        "---\n",
        "#***Hoy aprendimos***\n",
        "\n",
        "*  Representación de estructuras en formato SMILES utilizando el software RDKit.\n",
        "\n",
        "*  Importar información estructural desde una base de datos.\n",
        "\n",
        "---\n",
        "#***Enlaces Recomendados***\n",
        " \n",
        "\n",
        "*  Página Oficial RDKit: <a href=\"https://www.rdkit.org/\">RDKit Homepage</a>\n",
        "*  Tutorial SMILES: <a href=\"https://medium.com/@hexagono/introducci%C3%B3n-a-smiles-dibujando-mol%C3%A9culas-en-el-bloc-de-notas-3c0df0d09c01\">Introducción a SMILES</a>\n",
        "*  Introduction to RDKit: <a href=\"https://www.youtube.com/watch?v=9Z9XM9xamDU&t=137s\">Chemistry with Phyton</a>\n",
        "\n",
        "*  Generadores de notación SMILES: (i) <a href=\"https://pubchem.ncbi.nlm.nih.gov/edit3/index.html\">PubChem Sketcher</a>, (ii)<a href=\"http://www.cheminfo.org/flavor/malaria/Utilities/SMILES_generator___checker/index.html\"> SmilesGeneratorChecker</a>"
      ]
    },
    {
      "cell_type": "markdown",
      "metadata": {
        "id": "yINr70JUhM7Q"
      },
      "source": [
        "---\n",
        "#***Referencias***\n",
        "\n",
        "*   Weininger, D. 1988. SMILES, a chemical language and information system. 1. Introduction to methodology and encoding rules. Journal of Chemical Information and Computer Science 28: 31-36.  <a href=\"https://pubs.acs.org/doi/10.1021/ci00057a005\">doi.10.1021/ci00057a005</a>\n",
        "\n",
        "*   Weininger, D., A. Weininger, and J.L. Weininger. 1989. SMILES. 2. Algorithm for generation of unique SMILES notation. Journal of Chemical Information and Computer Science 29: 97-101. <a href=\"https://pubs.acs.org/doi/10.1021/ci00062a008\">doi.10.1021/ci00062a008</a>\n",
        "\n",
        "*   Archivo Web EPA: <a href=\"https://archive.epa.gov/med/med_archive_03/web/html/smiles.html\">Tutorial SMILES</a>"
      ]
    }
  ]
}